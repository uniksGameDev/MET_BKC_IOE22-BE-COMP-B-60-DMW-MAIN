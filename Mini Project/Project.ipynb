{
  "cells": [
    {
      "cell_type": "markdown",
      "metadata": {},
      "source": [
        "# MET's Institute of Engineering\n",
        "# Department of Computer Engineering\n",
        "# Academic Year 2021-22\n",
        "\n",
        "## A MINI PROJECT REPORT ON ‘Student Performance in Exam’\n",
        "\n",
        "Submitted by\n",
        "> Mr. Shivam More (Roll No: 20)<br>\n",
        "> Mr. Tejas Thorat (Roll No: 44)<br>\n",
        "> Mr. Nikhil Jadhav (Roll No: 60)\n",
        "\n",
        "Under the guidance of\n",
        "> Prof. Vishal Patil\n",
        "\n",
        "For the Subject\n",
        "> Laboratory Practice II (410247) -\n",
        "> Data Mining and Warehousing (410244 (D))\n",
        "\n",
        "Submitted in partial fulfilment of the requirements for the award of the \n",
        ">Degree of Bachelor in Computer Engineering"
      ]
    },
    {
      "cell_type": "code",
      "execution_count": 7,
      "metadata": {
        "id": "giXHR7qyqKKQ"
      },
      "outputs": [],
      "source": [
        "import matplotlib.pyplot as plt\n",
        "import pandas as pd\n",
        "import numpy as np\n",
        "from sklearn.model_selection import train_test_split\n",
        "from sklearn.linear_model import LogisticRegression\n",
        "from sklearn.metrics import accuracy_score\n",
        "from sklearn.naive_bayes import MultinomialNB, GaussianNB, BernoulliNB\n",
        "from sklearn.svm import LinearSVC\n",
        "from sklearn import svm\n",
        "from sklearn import tree\n",
        "from sklearn.ensemble import RandomForestClassifier\n",
        "from sklearn.neighbors import KNeighborsClassifier\n",
        "from sklearn.preprocessing import LabelEncoder,OneHotEncoder\n",
        "from sklearn.svm import SVC\n"
      ]
    },
    {
      "cell_type": "code",
      "execution_count": 8,
      "metadata": {
        "id": "_u5oZjLxqQtF"
      },
      "outputs": [],
      "source": [
        "df = pd.read_csv('./train.csv')\n",
        "test_df = pd.read_csv('./test.csv')"
      ]
    },
    {
      "cell_type": "code",
      "execution_count": 9,
      "metadata": {
        "colab": {
          "base_uri": "https://localhost:8080/",
          "height": 35
        },
        "id": "UM1pRlAXqkdk",
        "outputId": "840c387e-2585-43cb-a607-21f6dc7ff32f"
      },
      "outputs": [
        {
          "data": {
            "text/plain": [
              "(45000, 16)"
            ]
          },
          "execution_count": 9,
          "metadata": {},
          "output_type": "execute_result"
        }
      ],
      "source": [
        "df.shape"
      ]
    },
    {
      "cell_type": "code",
      "execution_count": 10,
      "metadata": {
        "colab": {
          "base_uri": "https://localhost:8080/",
          "height": 35
        },
        "id": "45jhJKDlqnEH",
        "outputId": "45773f99-8e3c-4cd0-8a4e-a5ad7adfba03"
      },
      "outputs": [
        {
          "data": {
            "text/plain": [
              "(13107, 15)"
            ]
          },
          "execution_count": 10,
          "metadata": {},
          "output_type": "execute_result"
        }
      ],
      "source": [
        "test_df.shape"
      ]
    },
    {
      "cell_type": "code",
      "execution_count": 11,
      "metadata": {
        "id": "ZA7JPBRnqpQb"
      },
      "outputs": [],
      "source": [
        "dt = df\n",
        "test_dt = test_df"
      ]
    },
    {
      "cell_type": "code",
      "execution_count": 12,
      "metadata": {
        "id": "Lv_XCaHpqrTD"
      },
      "outputs": [],
      "source": [
        "df['Elo'] = df['Elo'].fillna(df['Elo'].mode()[0])\n",
        "df['opp_Elo'] = df['opp_Elo'].fillna(df['opp_Elo'].mode()[0])\n",
        "df['win_equivalent'] = df['win_equivalent'].fillna(df['win_equivalent'].mode()[0])\n",
        "\n",
        "test_df['Elo'] = test_df['Elo'].fillna(test_df['Elo'].mode()[0])\n",
        "test_df['opp_Elo'] = test_df['opp_Elo'].fillna(test_df['opp_Elo'].mode()[0])\n",
        "test_df['win_equivalent'] = test_df['win_equivalent'].fillna(test_df['win_equivalent'].mode()[0])\n",
        "\n",
        "# df=df.fillna(df.mean())"
      ]
    },
    {
      "cell_type": "code",
      "execution_count": 13,
      "metadata": {
        "id": "T8Cwq9AVqtFE"
      },
      "outputs": [],
      "source": [
        "lb = LabelEncoder()\n",
        "df['team_id'] = lb.fit_transform(df['team_id'])\n",
        "df['opp_team_id'] = lb.fit_transform(df['opp_team_id'])\n",
        "\n",
        "test_df['team_id'] = lb.fit_transform(test_df['team_id'])\n",
        "test_df['opp_team_id'] = lb.fit_transform(test_df['opp_team_id'])\n"
      ]
    },
    {
      "cell_type": "code",
      "execution_count": 14,
      "metadata": {
        "id": "od33GEuXquWx"
      },
      "outputs": [],
      "source": [
        "new = df[\"date\"].str.split(\"/\", n = 2, expand = True) \n",
        "  \n",
        "df[\"date1\"]= new[0] \n",
        "df[\"month\"]= new[1] \n",
        "df[\"year\"]= new[2] \n",
        "\n",
        "# Dropping old Name columns \n",
        "df = df.drop(['date'], axis=1)\n",
        "\n",
        "\n",
        "\n",
        "\n",
        "new1 = test_df[\"date\"].str.split(\"/\", n = 2, expand = True) \n",
        "  \n",
        "test_df[\"date1\"]= new1[0] \n",
        "test_df[\"month\"]= new1[1] \n",
        "test_df[\"year\"]= new1[2] \n",
        "\n",
        "# Dropping old Name columns \n",
        "test_df = test_df.drop(['date'], axis=1)\n"
      ]
    },
    {
      "cell_type": "code",
      "execution_count": 15,
      "metadata": {
        "id": "mKPj_53Wq2sZ"
      },
      "outputs": [],
      "source": [
        "df['playoff'] = lb.fit_transform(df['playoff'])\n",
        "test_df['playoff'] = lb.fit_transform(test_df['playoff'])"
      ]
    },
    {
      "cell_type": "code",
      "execution_count": 16,
      "metadata": {
        "id": "8F9eO5Isq38e"
      },
      "outputs": [],
      "source": [
        "df['date1'] = df['date1'].astype(int)\n",
        "df['month'] = df['month'].astype(int)\n",
        "df['year'] = df['year'].astype(int)\n",
        "test_df['date1'] = test_df['date1'].astype(int)\n",
        "test_df['month'] = test_df['month'].astype(int)\n",
        "test_df['year'] = test_df['year'].astype(int)"
      ]
    },
    {
      "cell_type": "code",
      "execution_count": 17,
      "metadata": {
        "colab": {
          "base_uri": "https://localhost:8080/",
          "height": 222
        },
        "id": "_FeI_XFjq5Ol",
        "outputId": "76418e40-4b40-4a6d-f777-7d624e070f43"
      },
      "outputs": [
        {
          "data": {
            "text/html": [
              "<div>\n",
              "<style scoped>\n",
              "    .dataframe tbody tr th:only-of-type {\n",
              "        vertical-align: middle;\n",
              "    }\n",
              "\n",
              "    .dataframe tbody tr th {\n",
              "        vertical-align: top;\n",
              "    }\n",
              "\n",
              "    .dataframe thead th {\n",
              "        text-align: right;\n",
              "    }\n",
              "</style>\n",
              "<table border=\"1\" class=\"dataframe\">\n",
              "  <thead>\n",
              "    <tr style=\"text-align: right;\">\n",
              "      <th></th>\n",
              "      <th>Id</th>\n",
              "      <th>game_seq</th>\n",
              "      <th>season_end</th>\n",
              "      <th>season_game_seq</th>\n",
              "      <th>playoff</th>\n",
              "      <th>team_id</th>\n",
              "      <th>Elo</th>\n",
              "      <th>opp_team_id</th>\n",
              "      <th>opp_Elo</th>\n",
              "      <th>win_equivalent</th>\n",
              "      <th>bet_ratio</th>\n",
              "      <th>home_crowd</th>\n",
              "      <th>opp_crowd</th>\n",
              "      <th>total_crowd</th>\n",
              "      <th>game_result</th>\n",
              "      <th>date1</th>\n",
              "      <th>month</th>\n",
              "      <th>year</th>\n",
              "    </tr>\n",
              "  </thead>\n",
              "  <tbody>\n",
              "    <tr>\n",
              "      <th>0</th>\n",
              "      <td>1</td>\n",
              "      <td>39323</td>\n",
              "      <td>1997</td>\n",
              "      <td>2</td>\n",
              "      <td>0</td>\n",
              "      <td>18</td>\n",
              "      <td>1511.6364</td>\n",
              "      <td>2</td>\n",
              "      <td>1300.0000</td>\n",
              "      <td>18.998001</td>\n",
              "      <td>0.616437</td>\n",
              "      <td>6600</td>\n",
              "      <td>4800</td>\n",
              "      <td>11400</td>\n",
              "      <td>1</td>\n",
              "      <td>11</td>\n",
              "      <td>2</td>\n",
              "      <td>1996</td>\n",
              "    </tr>\n",
              "    <tr>\n",
              "      <th>1</th>\n",
              "      <td>2</td>\n",
              "      <td>59211</td>\n",
              "      <td>2012</td>\n",
              "      <td>87</td>\n",
              "      <td>1</td>\n",
              "      <td>15</td>\n",
              "      <td>1690.4612</td>\n",
              "      <td>37</td>\n",
              "      <td>1732.2164</td>\n",
              "      <td>59.721931</td>\n",
              "      <td>0.583044</td>\n",
              "      <td>5600</td>\n",
              "      <td>4300</td>\n",
              "      <td>9900</td>\n",
              "      <td>0</td>\n",
              "      <td>6</td>\n",
              "      <td>17</td>\n",
              "      <td>2012</td>\n",
              "    </tr>\n",
              "    <tr>\n",
              "      <th>2</th>\n",
              "      <td>3</td>\n",
              "      <td>60691</td>\n",
              "      <td>2014</td>\n",
              "      <td>12</td>\n",
              "      <td>0</td>\n",
              "      <td>10</td>\n",
              "      <td>1550.2258</td>\n",
              "      <td>3</td>\n",
              "      <td>1300.0000</td>\n",
              "      <td>18.998001</td>\n",
              "      <td>0.606468</td>\n",
              "      <td>8600</td>\n",
              "      <td>3800</td>\n",
              "      <td>12400</td>\n",
              "      <td>0</td>\n",
              "      <td>11</td>\n",
              "      <td>20</td>\n",
              "      <td>2013</td>\n",
              "    </tr>\n",
              "    <tr>\n",
              "      <th>3</th>\n",
              "      <td>4</td>\n",
              "      <td>31900</td>\n",
              "      <td>1990</td>\n",
              "      <td>69</td>\n",
              "      <td>0</td>\n",
              "      <td>4</td>\n",
              "      <td>1300.0000</td>\n",
              "      <td>9</td>\n",
              "      <td>1629.6985</td>\n",
              "      <td>39.305004</td>\n",
              "      <td>0.390694</td>\n",
              "      <td>7200</td>\n",
              "      <td>4000</td>\n",
              "      <td>11200</td>\n",
              "      <td>0</td>\n",
              "      <td>3</td>\n",
              "      <td>29</td>\n",
              "      <td>1990</td>\n",
              "    </tr>\n",
              "    <tr>\n",
              "      <th>4</th>\n",
              "      <td>5</td>\n",
              "      <td>48134</td>\n",
              "      <td>2004</td>\n",
              "      <td>30</td>\n",
              "      <td>0</td>\n",
              "      <td>20</td>\n",
              "      <td>1300.0000</td>\n",
              "      <td>4</td>\n",
              "      <td>1300.0000</td>\n",
              "      <td>28.311192</td>\n",
              "      <td>0.492179</td>\n",
              "      <td>8600</td>\n",
              "      <td>4900</td>\n",
              "      <td>13500</td>\n",
              "      <td>0</td>\n",
              "      <td>1</td>\n",
              "      <td>2</td>\n",
              "      <td>2004</td>\n",
              "    </tr>\n",
              "  </tbody>\n",
              "</table>\n",
              "</div>"
            ],
            "text/plain": [
              "   Id  game_seq  season_end  season_game_seq  playoff  team_id        Elo  \\\n",
              "0   1     39323        1997                2        0       18  1511.6364   \n",
              "1   2     59211        2012               87        1       15  1690.4612   \n",
              "2   3     60691        2014               12        0       10  1550.2258   \n",
              "3   4     31900        1990               69        0        4  1300.0000   \n",
              "4   5     48134        2004               30        0       20  1300.0000   \n",
              "\n",
              "   opp_team_id    opp_Elo  win_equivalent  bet_ratio  home_crowd  opp_crowd  \\\n",
              "0            2  1300.0000       18.998001   0.616437        6600       4800   \n",
              "1           37  1732.2164       59.721931   0.583044        5600       4300   \n",
              "2            3  1300.0000       18.998001   0.606468        8600       3800   \n",
              "3            9  1629.6985       39.305004   0.390694        7200       4000   \n",
              "4            4  1300.0000       28.311192   0.492179        8600       4900   \n",
              "\n",
              "   total_crowd  game_result  date1  month  year  \n",
              "0        11400            1     11      2  1996  \n",
              "1         9900            0      6     17  2012  \n",
              "2        12400            0     11     20  2013  \n",
              "3        11200            0      3     29  1990  \n",
              "4        13500            0      1      2  2004  "
            ]
          },
          "execution_count": 17,
          "metadata": {},
          "output_type": "execute_result"
        }
      ],
      "source": [
        "df.head()"
      ]
    },
    {
      "cell_type": "code",
      "execution_count": 18,
      "metadata": {
        "colab": {
          "base_uri": "https://localhost:8080/",
          "height": 222
        },
        "id": "xfpbBFRqq6m9",
        "outputId": "547265bb-99fc-466f-a8ea-75ddd5e3d0f3"
      },
      "outputs": [
        {
          "data": {
            "text/html": [
              "<div>\n",
              "<style scoped>\n",
              "    .dataframe tbody tr th:only-of-type {\n",
              "        vertical-align: middle;\n",
              "    }\n",
              "\n",
              "    .dataframe tbody tr th {\n",
              "        vertical-align: top;\n",
              "    }\n",
              "\n",
              "    .dataframe thead th {\n",
              "        text-align: right;\n",
              "    }\n",
              "</style>\n",
              "<table border=\"1\" class=\"dataframe\">\n",
              "  <thead>\n",
              "    <tr style=\"text-align: right;\">\n",
              "      <th></th>\n",
              "      <th>Id</th>\n",
              "      <th>game_seq</th>\n",
              "      <th>season_end</th>\n",
              "      <th>season_game_seq</th>\n",
              "      <th>playoff</th>\n",
              "      <th>team_id</th>\n",
              "      <th>Elo</th>\n",
              "      <th>opp_team_id</th>\n",
              "      <th>opp_Elo</th>\n",
              "      <th>win_equivalent</th>\n",
              "      <th>bet_ratio</th>\n",
              "      <th>home_crowd</th>\n",
              "      <th>opp_crowd</th>\n",
              "      <th>total_crowd</th>\n",
              "      <th>date1</th>\n",
              "      <th>month</th>\n",
              "      <th>year</th>\n",
              "    </tr>\n",
              "  </thead>\n",
              "  <tbody>\n",
              "    <tr>\n",
              "      <th>0</th>\n",
              "      <td>45001</td>\n",
              "      <td>50929</td>\n",
              "      <td>2006</td>\n",
              "      <td>45</td>\n",
              "      <td>0</td>\n",
              "      <td>6</td>\n",
              "      <td>1452.0272</td>\n",
              "      <td>4</td>\n",
              "      <td>1467.3956</td>\n",
              "      <td>36.577610</td>\n",
              "      <td>0.619442</td>\n",
              "      <td>8700</td>\n",
              "      <td>3300</td>\n",
              "      <td>12000</td>\n",
              "      <td>2</td>\n",
              "      <td>1</td>\n",
              "      <td>2006</td>\n",
              "    </tr>\n",
              "    <tr>\n",
              "      <th>1</th>\n",
              "      <td>45002</td>\n",
              "      <td>62745</td>\n",
              "      <td>2015</td>\n",
              "      <td>60</td>\n",
              "      <td>0</td>\n",
              "      <td>7</td>\n",
              "      <td>1498.2162</td>\n",
              "      <td>1</td>\n",
              "      <td>1283.8668</td>\n",
              "      <td>40.762897</td>\n",
              "      <td>0.859306</td>\n",
              "      <td>7000</td>\n",
              "      <td>2600</td>\n",
              "      <td>9600</td>\n",
              "      <td>3</td>\n",
              "      <td>4</td>\n",
              "      <td>2015</td>\n",
              "    </tr>\n",
              "    <tr>\n",
              "      <th>2</th>\n",
              "      <td>45003</td>\n",
              "      <td>53291</td>\n",
              "      <td>2008</td>\n",
              "      <td>28</td>\n",
              "      <td>0</td>\n",
              "      <td>59</td>\n",
              "      <td>1495.3258</td>\n",
              "      <td>6</td>\n",
              "      <td>1392.2981</td>\n",
              "      <td>40.791542</td>\n",
              "      <td>0.762914</td>\n",
              "      <td>3800</td>\n",
              "      <td>1500</td>\n",
              "      <td>5300</td>\n",
              "      <td>12</td>\n",
              "      <td>25</td>\n",
              "      <td>2007</td>\n",
              "    </tr>\n",
              "    <tr>\n",
              "      <th>3</th>\n",
              "      <td>45004</td>\n",
              "      <td>24991</td>\n",
              "      <td>1984</td>\n",
              "      <td>18</td>\n",
              "      <td>0</td>\n",
              "      <td>58</td>\n",
              "      <td>1602.1180</td>\n",
              "      <td>11</td>\n",
              "      <td>1528.8450</td>\n",
              "      <td>52.006989</td>\n",
              "      <td>0.730555</td>\n",
              "      <td>7000</td>\n",
              "      <td>300</td>\n",
              "      <td>7300</td>\n",
              "      <td>12</td>\n",
              "      <td>2</td>\n",
              "      <td>1983</td>\n",
              "    </tr>\n",
              "    <tr>\n",
              "      <th>4</th>\n",
              "      <td>45005</td>\n",
              "      <td>18807</td>\n",
              "      <td>1977</td>\n",
              "      <td>73</td>\n",
              "      <td>0</td>\n",
              "      <td>23</td>\n",
              "      <td>1481.2228</td>\n",
              "      <td>4</td>\n",
              "      <td>1571.5261</td>\n",
              "      <td>29.636082</td>\n",
              "      <td>0.513951</td>\n",
              "      <td>4900</td>\n",
              "      <td>1000</td>\n",
              "      <td>5900</td>\n",
              "      <td>3</td>\n",
              "      <td>25</td>\n",
              "      <td>1977</td>\n",
              "    </tr>\n",
              "  </tbody>\n",
              "</table>\n",
              "</div>"
            ],
            "text/plain": [
              "      Id  game_seq  season_end  season_game_seq  playoff  team_id        Elo  \\\n",
              "0  45001     50929        2006               45        0        6  1452.0272   \n",
              "1  45002     62745        2015               60        0        7  1498.2162   \n",
              "2  45003     53291        2008               28        0       59  1495.3258   \n",
              "3  45004     24991        1984               18        0       58  1602.1180   \n",
              "4  45005     18807        1977               73        0       23  1481.2228   \n",
              "\n",
              "   opp_team_id    opp_Elo  win_equivalent  bet_ratio  home_crowd  opp_crowd  \\\n",
              "0            4  1467.3956       36.577610   0.619442        8700       3300   \n",
              "1            1  1283.8668       40.762897   0.859306        7000       2600   \n",
              "2            6  1392.2981       40.791542   0.762914        3800       1500   \n",
              "3           11  1528.8450       52.006989   0.730555        7000        300   \n",
              "4            4  1571.5261       29.636082   0.513951        4900       1000   \n",
              "\n",
              "   total_crowd  date1  month  year  \n",
              "0        12000      2      1  2006  \n",
              "1         9600      3      4  2015  \n",
              "2         5300     12     25  2007  \n",
              "3         7300     12      2  1983  \n",
              "4         5900      3     25  1977  "
            ]
          },
          "execution_count": 18,
          "metadata": {},
          "output_type": "execute_result"
        }
      ],
      "source": [
        "test_df.head()"
      ]
    },
    {
      "cell_type": "code",
      "execution_count": 19,
      "metadata": {
        "colab": {
          "base_uri": "https://localhost:8080/",
          "height": 451
        },
        "id": "1hVwjbtsq8z5",
        "outputId": "598755d9-4d2f-4297-adff-fab0e9cfaa9b"
      },
      "outputs": [
        {
          "name": "stdout",
          "output_type": "stream",
          "text": [
            "<class 'pandas.core.frame.DataFrame'>\n",
            "RangeIndex: 45000 entries, 0 to 44999\n",
            "Data columns (total 18 columns):\n",
            " #   Column           Non-Null Count  Dtype  \n",
            "---  ------           --------------  -----  \n",
            " 0   Id               45000 non-null  int64  \n",
            " 1   game_seq         45000 non-null  int64  \n",
            " 2   season_end       45000 non-null  int64  \n",
            " 3   season_game_seq  45000 non-null  int64  \n",
            " 4   playoff          45000 non-null  int64  \n",
            " 5   team_id          45000 non-null  int32  \n",
            " 6   Elo              45000 non-null  float64\n",
            " 7   opp_team_id      45000 non-null  int32  \n",
            " 8   opp_Elo          45000 non-null  float64\n",
            " 9   win_equivalent   45000 non-null  float64\n",
            " 10  bet_ratio        45000 non-null  float64\n",
            " 11  home_crowd       45000 non-null  int64  \n",
            " 12  opp_crowd        45000 non-null  int64  \n",
            " 13  total_crowd      45000 non-null  int64  \n",
            " 14  game_result      45000 non-null  int64  \n",
            " 15  date1            45000 non-null  int32  \n",
            " 16  month            45000 non-null  int32  \n",
            " 17  year             45000 non-null  int32  \n",
            "dtypes: float64(4), int32(5), int64(9)\n",
            "memory usage: 5.3 MB\n"
          ]
        }
      ],
      "source": [
        "df.info()"
      ]
    },
    {
      "cell_type": "code",
      "execution_count": 20,
      "metadata": {
        "colab": {
          "base_uri": "https://localhost:8080/",
          "height": 433
        },
        "id": "84P0x2IJq90f",
        "outputId": "f83efe9d-4a43-407f-96fb-35edfccdbbfe"
      },
      "outputs": [
        {
          "name": "stdout",
          "output_type": "stream",
          "text": [
            "<class 'pandas.core.frame.DataFrame'>\n",
            "RangeIndex: 13107 entries, 0 to 13106\n",
            "Data columns (total 17 columns):\n",
            " #   Column           Non-Null Count  Dtype  \n",
            "---  ------           --------------  -----  \n",
            " 0   Id               13107 non-null  int64  \n",
            " 1   game_seq         13107 non-null  int64  \n",
            " 2   season_end       13107 non-null  int64  \n",
            " 3   season_game_seq  13107 non-null  int64  \n",
            " 4   playoff          13107 non-null  int64  \n",
            " 5   team_id          13107 non-null  int32  \n",
            " 6   Elo              13107 non-null  float64\n",
            " 7   opp_team_id      13107 non-null  int32  \n",
            " 8   opp_Elo          13107 non-null  float64\n",
            " 9   win_equivalent   13107 non-null  float64\n",
            " 10  bet_ratio        13107 non-null  float64\n",
            " 11  home_crowd       13107 non-null  int64  \n",
            " 12  opp_crowd        13107 non-null  int64  \n",
            " 13  total_crowd      13107 non-null  int64  \n",
            " 14  date1            13107 non-null  int32  \n",
            " 15  month            13107 non-null  int32  \n",
            " 16  year             13107 non-null  int32  \n",
            "dtypes: float64(4), int32(5), int64(8)\n",
            "memory usage: 1.5 MB\n"
          ]
        }
      ],
      "source": [
        "test_df.info()\n"
      ]
    },
    {
      "cell_type": "code",
      "execution_count": 21,
      "metadata": {
        "colab": {
          "base_uri": "https://localhost:8080/",
          "height": 35
        },
        "id": "h4_zJqJIq_Fi",
        "outputId": "56d273a4-b928-48a4-ecef-b4e8c66a0f91"
      },
      "outputs": [
        {
          "data": {
            "text/plain": [
              "(45000, 18)"
            ]
          },
          "execution_count": 21,
          "metadata": {},
          "output_type": "execute_result"
        }
      ],
      "source": [
        "df.shape"
      ]
    },
    {
      "cell_type": "code",
      "execution_count": 22,
      "metadata": {
        "colab": {
          "base_uri": "https://localhost:8080/",
          "height": 35
        },
        "id": "tLTc-FSsrAQt",
        "outputId": "91c568b4-bdd4-436e-a38b-4fe1a791b431"
      },
      "outputs": [
        {
          "data": {
            "text/plain": [
              "(13107, 17)"
            ]
          },
          "execution_count": 22,
          "metadata": {},
          "output_type": "execute_result"
        }
      ],
      "source": [
        "test_df.shape\n"
      ]
    },
    {
      "cell_type": "code",
      "execution_count": 23,
      "metadata": {
        "id": "vJHViqvxrB2F"
      },
      "outputs": [],
      "source": [
        "df.drop('Id', axis=1, inplace=True)\n",
        "df.drop('playoff', axis=1, inplace=True)\n",
        "# df.drop('season_end', axis=1, inplace=True)\n",
        "df.drop('date1', axis=1, inplace=True)\n",
        "# df.drop('year', axis=1, inplace=True)\n",
        "df.drop('team_id', axis=1, inplace=True)\n",
        "df.drop('opp_team_id', axis=1, inplace=True)\n",
        "df.drop('season_end', axis=1, inplace=True)\n",
        "df.drop('year', axis=1, inplace=True)\n",
        "\n",
        "\n",
        "test_df.drop('Id', axis=1, inplace=True)\n",
        "test_df.drop('playoff', axis=1, inplace=True)\n",
        "# test_df.drop('season_end', axis=1, inplace=True)\n",
        "test_df.drop('date1', axis=1, inplace=True)\n",
        "# test_df.drop('year', axis=1, inplace=True)\n",
        "test_df.drop('team_id', axis=1, inplace=True)\n",
        "test_df.drop('opp_team_id', axis=1, inplace=True)\n",
        "test_df.drop('season_end', axis=1, inplace=True)\n",
        "test_df.drop('year', axis=1, inplace=True)"
      ]
    },
    {
      "cell_type": "code",
      "execution_count": 24,
      "metadata": {
        "colab": {
          "base_uri": "https://localhost:8080/",
          "height": 35
        },
        "id": "gHBGFuEvrDA2",
        "outputId": "f35bb208-257c-45c7-ef7e-ea8ac59b676a"
      },
      "outputs": [
        {
          "data": {
            "text/plain": [
              "(45000, 11)"
            ]
          },
          "execution_count": 24,
          "metadata": {},
          "output_type": "execute_result"
        }
      ],
      "source": [
        "df.shape"
      ]
    },
    {
      "cell_type": "code",
      "execution_count": 25,
      "metadata": {
        "colab": {
          "base_uri": "https://localhost:8080/",
          "height": 35
        },
        "id": "hYQ3Df_erEsP",
        "outputId": "cd92d778-db43-43d5-a924-239c3296f2f2"
      },
      "outputs": [
        {
          "data": {
            "text/plain": [
              "(13107, 10)"
            ]
          },
          "execution_count": 25,
          "metadata": {},
          "output_type": "execute_result"
        }
      ],
      "source": [
        "test_df.shape"
      ]
    },
    {
      "cell_type": "code",
      "execution_count": 26,
      "metadata": {
        "id": "OQjvVi-1rFqw"
      },
      "outputs": [],
      "source": [
        "y = df['game_result']\n",
        "df.drop('game_result', axis=1, inplace=True)\n",
        "x = df"
      ]
    },
    {
      "cell_type": "code",
      "execution_count": 27,
      "metadata": {
        "colab": {
          "base_uri": "https://localhost:8080/",
          "height": 35
        },
        "id": "Tbh33xG6rK3h",
        "outputId": "feb23f19-a887-48a5-9350-03945a027581"
      },
      "outputs": [
        {
          "data": {
            "text/plain": [
              "(45000, 10)"
            ]
          },
          "execution_count": 27,
          "metadata": {},
          "output_type": "execute_result"
        }
      ],
      "source": [
        "x.shape"
      ]
    },
    {
      "cell_type": "code",
      "execution_count": 28,
      "metadata": {
        "colab": {
          "base_uri": "https://localhost:8080/",
          "height": 35
        },
        "id": "PBxWMaYdrL4l",
        "outputId": "9021320c-da78-4480-a263-56932b6d64d5"
      },
      "outputs": [
        {
          "data": {
            "text/plain": [
              "(45000,)"
            ]
          },
          "execution_count": 28,
          "metadata": {},
          "output_type": "execute_result"
        }
      ],
      "source": [
        "y.shape"
      ]
    },
    {
      "cell_type": "code",
      "execution_count": 29,
      "metadata": {
        "id": "lkVSTKBsrNb4"
      },
      "outputs": [],
      "source": [
        "from sklearn.model_selection import train_test_split\n",
        "x_train, x_val, y_train, y_val = train_test_split(x,y, test_size = 0.1, random_state = 0)"
      ]
    },
    {
      "cell_type": "code",
      "execution_count": 30,
      "metadata": {
        "colab": {
          "base_uri": "https://localhost:8080/",
          "height": 35
        },
        "id": "wPmHJwZErX1Q",
        "outputId": "f64986cb-b159-4b92-c69c-d8bc2d57c7d6"
      },
      "outputs": [
        {
          "name": "stdout",
          "output_type": "stream",
          "text": [
            "77.4\n"
          ]
        }
      ],
      "source": [
        "# Random Forest\n",
        "from sklearn.ensemble import RandomForestClassifier\n",
        "\n",
        "randomforest = RandomForestClassifier(n_estimators=600)\n",
        "randomforest.fit(x_train, y_train)\n",
        "y_pred = randomforest.predict(x_val)\n",
        "acc_randomforest = round(accuracy_score(y_pred, y_val) * 100, 2)\n",
        "print(acc_randomforest)"
      ]
    },
    {
      "cell_type": "code",
      "execution_count": 31,
      "metadata": {
        "colab": {
          "base_uri": "https://localhost:8080/",
          "height": 52
        },
        "id": "dAtaNtjWvmsB",
        "outputId": "3be2570d-9bbe-4912-bd89-4ae2bb634eb8"
      },
      "outputs": [
        {
          "name": "stdout",
          "output_type": "stream",
          "text": [
            "[[2444  331]\n",
            " [ 686 1039]]\n"
          ]
        }
      ],
      "source": [
        "from sklearn import metrics\n",
        "\n",
        "print(metrics.confusion_matrix(y_val, y_pred))"
      ]
    },
    {
      "cell_type": "code",
      "execution_count": 32,
      "metadata": {
        "colab": {
          "base_uri": "https://localhost:8080/",
          "height": 52
        },
        "id": "z8CTBt1wrY1Q",
        "outputId": "013873bf-fc45-4e71-b781-597692242e38"
      },
      "outputs": [
        {
          "name": "stdout",
          "output_type": "stream",
          "text": [
            "[0.09884209 0.07507408 0.13240455 0.09963422 0.15160131 0.17627526\n",
            " 0.06697976 0.06675681 0.07013566 0.06229626]\n"
          ]
        }
      ],
      "source": [
        "# importances = randomforest.feature_importances_\n",
        "print(randomforest.feature_importances_)"
      ]
    },
    {
      "cell_type": "code",
      "execution_count": 33,
      "metadata": {
        "colab": {
          "base_uri": "https://localhost:8080/",
          "height": 35
        },
        "id": "F6eLRFYoraD-",
        "outputId": "6a3d3c63-8c41-42b8-ab84-aa28eee4ec22"
      },
      "outputs": [
        {
          "name": "stdout",
          "output_type": "stream",
          "text": [
            "66.56\n"
          ]
        }
      ],
      "source": [
        "# Gaussian Naive Bayes\n",
        "from sklearn.naive_bayes import GaussianNB\n",
        "from sklearn.metrics import accuracy_score\n",
        "\n",
        "gaussian = GaussianNB()\n",
        "gaussian.fit(x_train, y_train)\n",
        "y_pred = gaussian.predict(x_val)\n",
        "acc_gaussian = round(accuracy_score(y_pred, y_val) * 100, 2)\n",
        "print(acc_gaussian)\n"
      ]
    },
    {
      "cell_type": "code",
      "execution_count": 34,
      "metadata": {
        "colab": {
          "base_uri": "https://localhost:8080/",
          "height": 52
        },
        "id": "4DlzxtFEwgOZ",
        "outputId": "aecf8b5c-79bd-486b-c596-b2e205630c5c"
      },
      "outputs": [
        {
          "name": "stdout",
          "output_type": "stream",
          "text": [
            "[[2258  517]\n",
            " [ 988  737]]\n"
          ]
        }
      ],
      "source": [
        "print(metrics.confusion_matrix(y_val, y_pred))"
      ]
    },
    {
      "cell_type": "code",
      "execution_count": 35,
      "metadata": {
        "colab": {
          "base_uri": "https://localhost:8080/",
          "height": 35
        },
        "id": "UKQgocF9rckP",
        "outputId": "fc9c0db3-c491-4b78-82f6-64d1dbe8af9f"
      },
      "outputs": [
        {
          "name": "stdout",
          "output_type": "stream",
          "text": [
            "65.47\n"
          ]
        }
      ],
      "source": [
        "# Logistic Regression\n",
        "from sklearn.linear_model import LogisticRegression\n",
        "\n",
        "logreg = LogisticRegression()\n",
        "logreg.fit(x_train, y_train)\n",
        "y_pred = logreg.predict(x_val)\n",
        "acc_logreg = round(accuracy_score(y_pred, y_val) * 100, 2)\n",
        "print(acc_logreg)"
      ]
    },
    {
      "cell_type": "code",
      "execution_count": 36,
      "metadata": {
        "colab": {
          "base_uri": "https://localhost:8080/",
          "height": 52
        },
        "id": "HyGWWh-swi8K",
        "outputId": "0f7130f3-0b8a-4cac-e675-0f3093be5346"
      },
      "outputs": [
        {
          "name": "stdout",
          "output_type": "stream",
          "text": [
            "[[2358  417]\n",
            " [1137  588]]\n"
          ]
        }
      ],
      "source": [
        "print(metrics.confusion_matrix(y_val, y_pred))"
      ]
    },
    {
      "cell_type": "code",
      "execution_count": 37,
      "metadata": {
        "colab": {
          "base_uri": "https://localhost:8080/",
          "height": 35
        },
        "id": "-MSF0m3WreXe",
        "outputId": "689dd2f4-660b-4ae6-b1ed-4e60b44e5801"
      },
      "outputs": [
        {
          "name": "stdout",
          "output_type": "stream",
          "text": [
            "61.67\n"
          ]
        }
      ],
      "source": [
        "# Support Vector Machines\n",
        "from sklearn.svm import SVC\n",
        "\n",
        "svc = SVC()\n",
        "svc.fit(x_train, y_train)\n",
        "y_pred = svc.predict(x_val)\n",
        "acc_svc = round(accuracy_score(y_pred, y_val) * 100, 2)\n",
        "print(acc_svc)"
      ]
    },
    {
      "cell_type": "code",
      "execution_count": 38,
      "metadata": {
        "colab": {
          "base_uri": "https://localhost:8080/",
          "height": 52
        },
        "id": "6Os4wgo6wkYW",
        "outputId": "f2042992-a70b-451a-e908-560869f5e023"
      },
      "outputs": [
        {
          "name": "stdout",
          "output_type": "stream",
          "text": [
            "[[2775    0]\n",
            " [1725    0]]\n"
          ]
        }
      ],
      "source": [
        "print(metrics.confusion_matrix(y_val, y_pred))"
      ]
    },
    {
      "cell_type": "code",
      "execution_count": 39,
      "metadata": {
        "colab": {
          "base_uri": "https://localhost:8080/",
          "height": 89
        },
        "id": "ndlTUHxirh_n",
        "outputId": "f799f575-e0e6-4f0d-ae42-54fbfc0390e5"
      },
      "outputs": [
        {
          "name": "stdout",
          "output_type": "stream",
          "text": [
            "61.58\n"
          ]
        },
        {
          "name": "stderr",
          "output_type": "stream",
          "text": [
            "C:\\Users\\jadha\\AppData\\Local\\Programs\\Python\\Python310\\lib\\site-packages\\sklearn\\svm\\_base.py:1206: ConvergenceWarning: Liblinear failed to converge, increase the number of iterations.\n",
            "  warnings.warn(\n"
          ]
        }
      ],
      "source": [
        "# Linear SVC\n",
        "from sklearn.svm import LinearSVC\n",
        "\n",
        "linear_svc = LinearSVC()\n",
        "linear_svc.fit(x_train, y_train)\n",
        "y_pred = linear_svc.predict(x_val)\n",
        "acc_linear_svc = round(accuracy_score(y_pred, y_val) * 100, 2)\n",
        "print(acc_linear_svc)"
      ]
    },
    {
      "cell_type": "code",
      "execution_count": 40,
      "metadata": {
        "colab": {
          "base_uri": "https://localhost:8080/",
          "height": 52
        },
        "id": "npkGBjXzwmfW",
        "outputId": "17976ec6-17d1-4dfe-e229-96d7ed598dd1"
      },
      "outputs": [
        {
          "name": "stdout",
          "output_type": "stream",
          "text": [
            "[[2672  103]\n",
            " [1626   99]]\n"
          ]
        }
      ],
      "source": [
        "print(metrics.confusion_matrix(y_val, y_pred))"
      ]
    },
    {
      "cell_type": "code",
      "execution_count": 41,
      "metadata": {
        "colab": {
          "base_uri": "https://localhost:8080/",
          "height": 124
        },
        "id": "s-WJMUlbrlIE",
        "outputId": "f66630eb-8bcd-4e54-9da4-70bbd0df8059"
      },
      "outputs": [
        {
          "name": "stdout",
          "output_type": "stream",
          "text": [
            "73.11\n"
          ]
        }
      ],
      "source": [
        "#Decision Tree\n",
        "from sklearn.tree import DecisionTreeClassifier\n",
        "\n",
        "decisiontree = DecisionTreeClassifier(class_weight=None, max_depth=32,\n",
        " max_features=None, max_leaf_nodes=None,\n",
        " min_impurity_decrease=1e-07, min_samples_leaf=5,\n",
        " min_samples_split=2, min_weight_fraction_leaf=0.0,\n",
        " random_state=None)\n",
        "decisiontree.fit(x_train, y_train)\n",
        "y_pred = decisiontree.predict(x_val)\n",
        "acc_decisiontree = round(accuracy_score(y_pred, y_val) * 100, 2)\n",
        "print(acc_decisiontree)"
      ]
    },
    {
      "cell_type": "code",
      "execution_count": 42,
      "metadata": {
        "colab": {
          "base_uri": "https://localhost:8080/",
          "height": 52
        },
        "id": "xLPQUsvIwrsc",
        "outputId": "50838696-e266-4b0e-ebc1-982218bc8bed"
      },
      "outputs": [
        {
          "name": "stdout",
          "output_type": "stream",
          "text": [
            "[[2220  555]\n",
            " [ 655 1070]]\n"
          ]
        }
      ],
      "source": [
        "print(metrics.confusion_matrix(y_val, y_pred))"
      ]
    },
    {
      "cell_type": "code",
      "execution_count": 43,
      "metadata": {
        "colab": {
          "base_uri": "https://localhost:8080/",
          "height": 35
        },
        "id": "xxZXtckzrmlF",
        "outputId": "f307d803-a097-4b45-dc77-16849afb29f2"
      },
      "outputs": [
        {
          "name": "stdout",
          "output_type": "stream",
          "text": [
            "83.62\n"
          ]
        }
      ],
      "source": [
        "# Gradient Boosting Classifier\n",
        "from sklearn.ensemble import GradientBoostingClassifier\n",
        "\n",
        "gbk = GradientBoostingClassifier(n_estimators=2000)\n",
        "gbk.fit(x_train, y_train)\n",
        "y_pred = gbk.predict(x_val)\n",
        "acc_gbk = round(accuracy_score(y_pred, y_val) * 100, 2)\n",
        "print(acc_gbk)"
      ]
    },
    {
      "cell_type": "code",
      "execution_count": 44,
      "metadata": {
        "colab": {
          "base_uri": "https://localhost:8080/",
          "height": 52
        },
        "id": "fOpkoiVMwsrc",
        "outputId": "41338512-7c52-416b-c3ae-4fa511f7160b"
      },
      "outputs": [
        {
          "name": "stdout",
          "output_type": "stream",
          "text": [
            "[[2520  255]\n",
            " [ 482 1243]]\n"
          ]
        }
      ],
      "source": [
        "print(metrics.confusion_matrix(y_val, y_pred))"
      ]
    },
    {
      "cell_type": "code",
      "execution_count": 45,
      "metadata": {
        "colab": {
          "base_uri": "https://localhost:8080/",
          "height": 233
        },
        "id": "7Z9XphMIroUo",
        "outputId": "acfe17d2-f291-40dd-d56f-8d5235e367dd"
      },
      "outputs": [
        {
          "data": {
            "text/html": [
              "<div>\n",
              "<style scoped>\n",
              "    .dataframe tbody tr th:only-of-type {\n",
              "        vertical-align: middle;\n",
              "    }\n",
              "\n",
              "    .dataframe tbody tr th {\n",
              "        vertical-align: top;\n",
              "    }\n",
              "\n",
              "    .dataframe thead th {\n",
              "        text-align: right;\n",
              "    }\n",
              "</style>\n",
              "<table border=\"1\" class=\"dataframe\">\n",
              "  <thead>\n",
              "    <tr style=\"text-align: right;\">\n",
              "      <th></th>\n",
              "      <th>Model</th>\n",
              "      <th>Score</th>\n",
              "    </tr>\n",
              "  </thead>\n",
              "  <tbody>\n",
              "    <tr>\n",
              "      <th>5</th>\n",
              "      <td>Gradient Boosting Classifier</td>\n",
              "      <td>83.62</td>\n",
              "    </tr>\n",
              "    <tr>\n",
              "      <th>1</th>\n",
              "      <td>Random Forest</td>\n",
              "      <td>77.40</td>\n",
              "    </tr>\n",
              "    <tr>\n",
              "      <th>4</th>\n",
              "      <td>Decision Tree</td>\n",
              "      <td>73.11</td>\n",
              "    </tr>\n",
              "    <tr>\n",
              "      <th>2</th>\n",
              "      <td>Naive Bayes</td>\n",
              "      <td>66.56</td>\n",
              "    </tr>\n",
              "    <tr>\n",
              "      <th>0</th>\n",
              "      <td>Support Vector Machines</td>\n",
              "      <td>61.67</td>\n",
              "    </tr>\n",
              "    <tr>\n",
              "      <th>3</th>\n",
              "      <td>Linear SVC</td>\n",
              "      <td>61.58</td>\n",
              "    </tr>\n",
              "  </tbody>\n",
              "</table>\n",
              "</div>"
            ],
            "text/plain": [
              "                          Model  Score\n",
              "5  Gradient Boosting Classifier  83.62\n",
              "1                 Random Forest  77.40\n",
              "4                 Decision Tree  73.11\n",
              "2                   Naive Bayes  66.56\n",
              "0       Support Vector Machines  61.67\n",
              "3                    Linear SVC  61.58"
            ]
          },
          "execution_count": 45,
          "metadata": {},
          "output_type": "execute_result"
        }
      ],
      "source": [
        "models = pd.DataFrame({\n",
        "    'Model': ['Support Vector Machines',  \n",
        "              'Random Forest', 'Naive Bayes', 'Linear SVC',\n",
        "              'Decision Tree', 'Gradient Boosting Classifier'],\n",
        "    'Score': [acc_svc,  \n",
        "              acc_randomforest, acc_gaussian, acc_linear_svc, acc_decisiontree,\n",
        "               acc_gbk]})\n",
        "models.sort_values(by='Score', ascending=False)"
      ]
    },
    {
      "cell_type": "code",
      "execution_count": null,
      "metadata": {
        "id": "8wfMTnZ8r4sa"
      },
      "outputs": [],
      "source": []
    }
  ],
  "metadata": {
    "colab": {
      "name": "LP2-A5.ipynb",
      "provenance": []
    },
    "kernelspec": {
      "display_name": "Python 3",
      "name": "python3"
    },
    "language_info": {
      "codemirror_mode": {
        "name": "ipython",
        "version": 3
      },
      "file_extension": ".py",
      "mimetype": "text/x-python",
      "name": "python",
      "nbconvert_exporter": "python",
      "pygments_lexer": "ipython3",
      "version": "3.10.1"
    }
  },
  "nbformat": 4,
  "nbformat_minor": 0
}
